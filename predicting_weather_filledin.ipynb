{
  "nbformat": 4,
  "nbformat_minor": 0,
  "metadata": {
    "kernelspec": {
      "display_name": "Python 3",
      "language": "python",
      "name": "python3"
    },
    "language_info": {
      "codemirror_mode": {
        "name": "ipython",
        "version": 3
      },
      "file_extension": ".py",
      "mimetype": "text/x-python",
      "name": "python",
      "nbconvert_exporter": "python",
      "pygments_lexer": "ipython3",
      "version": "3.6.9"
    },
    "colab": {
      "name": "predicting_weather-filledin.ipynb",
      "provenance": [],
      "include_colab_link": true
    }
  },
  "cells": [
    {
      "cell_type": "markdown",
      "metadata": {
        "id": "view-in-github",
        "colab_type": "text"
      },
      "source": [
        "<a href=\"https://colab.research.google.com/github/mohamedssafini/Predicting-the-Weather-with-Artificial-Neural-Networks/blob/main/predicting_weather_filledin.ipynb\" target=\"_parent\"><img src=\"https://colab.research.google.com/assets/colab-badge.svg\" alt=\"Open In Colab\"/></a>"
      ]
    },
    {
      "cell_type": "markdown",
      "metadata": {
        "id": "sH133XVeDH-D"
      },
      "source": [
        "Predicting the Weather with Neural Networks\n",
        "===========================================\n"
      ]
    },
    {
      "cell_type": "markdown",
      "metadata": {
        "id": "ZXDjYCz1DH-H"
      },
      "source": [
        "Example neural network"
      ]
    },
    {
      "cell_type": "markdown",
      "metadata": {
        "id": "VKzd8xEADH-I"
      },
      "source": [
        "Import libraries"
      ]
    },
    {
      "cell_type": "code",
      "metadata": {
        "id": "t3yXW6_XDH-J"
      },
      "source": [
        "import numpy as np\n",
        "import pandas as pd\n",
        "import matplotlib.pyplot as plt\n",
        "from sklearn.model_selection import train_test_split\n",
        "from sklearn.metrics import accuracy_score, classification_report, confusion_matrix\n",
        "from sklearn.preprocessing import StandardScaler\n",
        "from sklearn.neural_network import MLPClassifier\n",
        "from sklearn.model_selection import GridSearchCV"
      ],
      "execution_count": 1,
      "outputs": []
    },
    {
      "cell_type": "markdown",
      "metadata": {
        "id": "OWaESDtcDH-K"
      },
      "source": [
        "Read a CSV data file."
      ]
    },
    {
      "cell_type": "code",
      "metadata": {
        "colab": {
          "base_uri": "https://localhost:8080/",
          "height": 307
        },
        "id": "7BZtyzm2DH-K",
        "outputId": "0555a955-295b-4a21-d790-e6270b06e23c"
      },
      "source": [
        "df = pd.read_csv(\"weatherPerth.csv\")\n",
        "df.head()"
      ],
      "execution_count": 2,
      "outputs": [
        {
          "output_type": "execute_result",
          "data": {
            "text/html": [
              "<div>\n",
              "<style scoped>\n",
              "    .dataframe tbody tr th:only-of-type {\n",
              "        vertical-align: middle;\n",
              "    }\n",
              "\n",
              "    .dataframe tbody tr th {\n",
              "        vertical-align: top;\n",
              "    }\n",
              "\n",
              "    .dataframe thead th {\n",
              "        text-align: right;\n",
              "    }\n",
              "</style>\n",
              "<table border=\"1\" class=\"dataframe\">\n",
              "  <thead>\n",
              "    <tr style=\"text-align: right;\">\n",
              "      <th></th>\n",
              "      <th>Date</th>\n",
              "      <th>Location</th>\n",
              "      <th>MinTemp</th>\n",
              "      <th>MaxTemp</th>\n",
              "      <th>Rainfall</th>\n",
              "      <th>Evaporation</th>\n",
              "      <th>Sunshine</th>\n",
              "      <th>WindGustDir</th>\n",
              "      <th>WindGustSpeed</th>\n",
              "      <th>WindDir9am</th>\n",
              "      <th>WindDir3pm</th>\n",
              "      <th>WindSpeed9am</th>\n",
              "      <th>WindSpeed3pm</th>\n",
              "      <th>Humidity9am</th>\n",
              "      <th>Humidity3pm</th>\n",
              "      <th>Pressure9am</th>\n",
              "      <th>Pressure3pm</th>\n",
              "      <th>Cloud9am</th>\n",
              "      <th>Cloud3pm</th>\n",
              "      <th>Temp9am</th>\n",
              "      <th>Temp3pm</th>\n",
              "      <th>RainToday</th>\n",
              "      <th>RISK_MM</th>\n",
              "      <th>RainTomorrow</th>\n",
              "    </tr>\n",
              "  </thead>\n",
              "  <tbody>\n",
              "    <tr>\n",
              "      <th>0</th>\n",
              "      <td>2008-07-01</td>\n",
              "      <td>Perth</td>\n",
              "      <td>2.7</td>\n",
              "      <td>18.8</td>\n",
              "      <td>0.0</td>\n",
              "      <td>0.8</td>\n",
              "      <td>9.1</td>\n",
              "      <td>ENE</td>\n",
              "      <td>20.0</td>\n",
              "      <td>NaN</td>\n",
              "      <td>E</td>\n",
              "      <td>0</td>\n",
              "      <td>7.0</td>\n",
              "      <td>97.0</td>\n",
              "      <td>53.0</td>\n",
              "      <td>1027.6</td>\n",
              "      <td>1024.5</td>\n",
              "      <td>2.0</td>\n",
              "      <td>3.0</td>\n",
              "      <td>8.5</td>\n",
              "      <td>18.1</td>\n",
              "      <td>No</td>\n",
              "      <td>0.0</td>\n",
              "      <td>No</td>\n",
              "    </tr>\n",
              "    <tr>\n",
              "      <th>1</th>\n",
              "      <td>2008-07-02</td>\n",
              "      <td>Perth</td>\n",
              "      <td>6.4</td>\n",
              "      <td>20.7</td>\n",
              "      <td>0.0</td>\n",
              "      <td>1.8</td>\n",
              "      <td>7.0</td>\n",
              "      <td>NE</td>\n",
              "      <td>22.0</td>\n",
              "      <td>ESE</td>\n",
              "      <td>ENE</td>\n",
              "      <td>6</td>\n",
              "      <td>9.0</td>\n",
              "      <td>80.0</td>\n",
              "      <td>39.0</td>\n",
              "      <td>1024.1</td>\n",
              "      <td>1019.0</td>\n",
              "      <td>0.0</td>\n",
              "      <td>6.0</td>\n",
              "      <td>11.1</td>\n",
              "      <td>19.7</td>\n",
              "      <td>No</td>\n",
              "      <td>0.4</td>\n",
              "      <td>No</td>\n",
              "    </tr>\n",
              "    <tr>\n",
              "      <th>2</th>\n",
              "      <td>2008-07-03</td>\n",
              "      <td>Perth</td>\n",
              "      <td>6.5</td>\n",
              "      <td>19.9</td>\n",
              "      <td>0.4</td>\n",
              "      <td>2.2</td>\n",
              "      <td>7.3</td>\n",
              "      <td>NE</td>\n",
              "      <td>31.0</td>\n",
              "      <td>NaN</td>\n",
              "      <td>WNW</td>\n",
              "      <td>0</td>\n",
              "      <td>4.0</td>\n",
              "      <td>84.0</td>\n",
              "      <td>71.0</td>\n",
              "      <td>1016.8</td>\n",
              "      <td>1015.6</td>\n",
              "      <td>1.0</td>\n",
              "      <td>3.0</td>\n",
              "      <td>12.1</td>\n",
              "      <td>17.7</td>\n",
              "      <td>No</td>\n",
              "      <td>1.8</td>\n",
              "      <td>Yes</td>\n",
              "    </tr>\n",
              "    <tr>\n",
              "      <th>3</th>\n",
              "      <td>2008-07-04</td>\n",
              "      <td>Perth</td>\n",
              "      <td>9.5</td>\n",
              "      <td>19.2</td>\n",
              "      <td>1.8</td>\n",
              "      <td>1.2</td>\n",
              "      <td>4.7</td>\n",
              "      <td>W</td>\n",
              "      <td>26.0</td>\n",
              "      <td>NNE</td>\n",
              "      <td>NNW</td>\n",
              "      <td>11</td>\n",
              "      <td>6.0</td>\n",
              "      <td>93.0</td>\n",
              "      <td>73.0</td>\n",
              "      <td>1019.3</td>\n",
              "      <td>1018.4</td>\n",
              "      <td>6.0</td>\n",
              "      <td>6.0</td>\n",
              "      <td>13.2</td>\n",
              "      <td>17.7</td>\n",
              "      <td>Yes</td>\n",
              "      <td>1.8</td>\n",
              "      <td>Yes</td>\n",
              "    </tr>\n",
              "    <tr>\n",
              "      <th>4</th>\n",
              "      <td>2008-07-05</td>\n",
              "      <td>Perth</td>\n",
              "      <td>9.5</td>\n",
              "      <td>16.4</td>\n",
              "      <td>1.8</td>\n",
              "      <td>1.4</td>\n",
              "      <td>4.9</td>\n",
              "      <td>WSW</td>\n",
              "      <td>44.0</td>\n",
              "      <td>W</td>\n",
              "      <td>SW</td>\n",
              "      <td>13</td>\n",
              "      <td>17.0</td>\n",
              "      <td>69.0</td>\n",
              "      <td>57.0</td>\n",
              "      <td>1020.4</td>\n",
              "      <td>1022.1</td>\n",
              "      <td>7.0</td>\n",
              "      <td>5.0</td>\n",
              "      <td>15.9</td>\n",
              "      <td>16.0</td>\n",
              "      <td>Yes</td>\n",
              "      <td>6.8</td>\n",
              "      <td>Yes</td>\n",
              "    </tr>\n",
              "  </tbody>\n",
              "</table>\n",
              "</div>"
            ],
            "text/plain": [
              "         Date Location  MinTemp  ...  RainToday  RISK_MM  RainTomorrow\n",
              "0  2008-07-01    Perth      2.7  ...         No      0.0            No\n",
              "1  2008-07-02    Perth      6.4  ...         No      0.4            No\n",
              "2  2008-07-03    Perth      6.5  ...         No      1.8           Yes\n",
              "3  2008-07-04    Perth      9.5  ...        Yes      1.8           Yes\n",
              "4  2008-07-05    Perth      9.5  ...        Yes      6.8           Yes\n",
              "\n",
              "[5 rows x 24 columns]"
            ]
          },
          "metadata": {},
          "execution_count": 2
        }
      ]
    },
    {
      "cell_type": "markdown",
      "metadata": {
        "id": "XG9xVG7SDH-M"
      },
      "source": [
        "Pre-process the data.  First, remove unwanted variables."
      ]
    },
    {
      "cell_type": "code",
      "metadata": {
        "id": "4gD6tnwXDH-M"
      },
      "source": [
        "exclude = ['Date', 'RISK_MM', 'Location']\n",
        "for var in exclude:\n",
        "    del df[var]"
      ],
      "execution_count": 3,
      "outputs": []
    },
    {
      "cell_type": "markdown",
      "metadata": {
        "id": "NfPd61OxDH-N"
      },
      "source": [
        "Dealing with missing values."
      ]
    },
    {
      "cell_type": "code",
      "metadata": {
        "id": "nDjjk8U3DH-N"
      },
      "source": [
        "df = df.dropna()"
      ],
      "execution_count": 4,
      "outputs": []
    },
    {
      "cell_type": "markdown",
      "metadata": {
        "id": "Jv6Oe49fDH-O"
      },
      "source": [
        "Boolean variables to 0s and 1s."
      ]
    },
    {
      "cell_type": "code",
      "metadata": {
        "colab": {
          "base_uri": "https://localhost:8080/",
          "height": 223
        },
        "id": "9COuXf6gDH-O",
        "outputId": "39ecd4c7-49f3-4d3f-9575-53339af87c17"
      },
      "source": [
        "bools = ['RainToday', 'RainTomorrow']\n",
        "for var in bools:\n",
        "    df[var] = df[var].map({\n",
        "        'Yes': 1,\n",
        "        'No': 0\n",
        "    })\n",
        "df.head()"
      ],
      "execution_count": 5,
      "outputs": [
        {
          "output_type": "execute_result",
          "data": {
            "text/html": [
              "<div>\n",
              "<style scoped>\n",
              "    .dataframe tbody tr th:only-of-type {\n",
              "        vertical-align: middle;\n",
              "    }\n",
              "\n",
              "    .dataframe tbody tr th {\n",
              "        vertical-align: top;\n",
              "    }\n",
              "\n",
              "    .dataframe thead th {\n",
              "        text-align: right;\n",
              "    }\n",
              "</style>\n",
              "<table border=\"1\" class=\"dataframe\">\n",
              "  <thead>\n",
              "    <tr style=\"text-align: right;\">\n",
              "      <th></th>\n",
              "      <th>MinTemp</th>\n",
              "      <th>MaxTemp</th>\n",
              "      <th>Rainfall</th>\n",
              "      <th>Evaporation</th>\n",
              "      <th>Sunshine</th>\n",
              "      <th>WindGustDir</th>\n",
              "      <th>WindGustSpeed</th>\n",
              "      <th>WindDir9am</th>\n",
              "      <th>WindDir3pm</th>\n",
              "      <th>WindSpeed9am</th>\n",
              "      <th>WindSpeed3pm</th>\n",
              "      <th>Humidity9am</th>\n",
              "      <th>Humidity3pm</th>\n",
              "      <th>Pressure9am</th>\n",
              "      <th>Pressure3pm</th>\n",
              "      <th>Cloud9am</th>\n",
              "      <th>Cloud3pm</th>\n",
              "      <th>Temp9am</th>\n",
              "      <th>Temp3pm</th>\n",
              "      <th>RainToday</th>\n",
              "      <th>RainTomorrow</th>\n",
              "    </tr>\n",
              "  </thead>\n",
              "  <tbody>\n",
              "    <tr>\n",
              "      <th>1</th>\n",
              "      <td>6.4</td>\n",
              "      <td>20.7</td>\n",
              "      <td>0.0</td>\n",
              "      <td>1.8</td>\n",
              "      <td>7.0</td>\n",
              "      <td>NE</td>\n",
              "      <td>22.0</td>\n",
              "      <td>ESE</td>\n",
              "      <td>ENE</td>\n",
              "      <td>6</td>\n",
              "      <td>9.0</td>\n",
              "      <td>80.0</td>\n",
              "      <td>39.0</td>\n",
              "      <td>1024.1</td>\n",
              "      <td>1019.0</td>\n",
              "      <td>0.0</td>\n",
              "      <td>6.0</td>\n",
              "      <td>11.1</td>\n",
              "      <td>19.7</td>\n",
              "      <td>0</td>\n",
              "      <td>0</td>\n",
              "    </tr>\n",
              "    <tr>\n",
              "      <th>3</th>\n",
              "      <td>9.5</td>\n",
              "      <td>19.2</td>\n",
              "      <td>1.8</td>\n",
              "      <td>1.2</td>\n",
              "      <td>4.7</td>\n",
              "      <td>W</td>\n",
              "      <td>26.0</td>\n",
              "      <td>NNE</td>\n",
              "      <td>NNW</td>\n",
              "      <td>11</td>\n",
              "      <td>6.0</td>\n",
              "      <td>93.0</td>\n",
              "      <td>73.0</td>\n",
              "      <td>1019.3</td>\n",
              "      <td>1018.4</td>\n",
              "      <td>6.0</td>\n",
              "      <td>6.0</td>\n",
              "      <td>13.2</td>\n",
              "      <td>17.7</td>\n",
              "      <td>1</td>\n",
              "      <td>1</td>\n",
              "    </tr>\n",
              "    <tr>\n",
              "      <th>4</th>\n",
              "      <td>9.5</td>\n",
              "      <td>16.4</td>\n",
              "      <td>1.8</td>\n",
              "      <td>1.4</td>\n",
              "      <td>4.9</td>\n",
              "      <td>WSW</td>\n",
              "      <td>44.0</td>\n",
              "      <td>W</td>\n",
              "      <td>SW</td>\n",
              "      <td>13</td>\n",
              "      <td>17.0</td>\n",
              "      <td>69.0</td>\n",
              "      <td>57.0</td>\n",
              "      <td>1020.4</td>\n",
              "      <td>1022.1</td>\n",
              "      <td>7.0</td>\n",
              "      <td>5.0</td>\n",
              "      <td>15.9</td>\n",
              "      <td>16.0</td>\n",
              "      <td>1</td>\n",
              "      <td>1</td>\n",
              "    </tr>\n",
              "    <tr>\n",
              "      <th>5</th>\n",
              "      <td>0.7</td>\n",
              "      <td>15.9</td>\n",
              "      <td>6.8</td>\n",
              "      <td>2.4</td>\n",
              "      <td>9.3</td>\n",
              "      <td>NNE</td>\n",
              "      <td>24.0</td>\n",
              "      <td>ENE</td>\n",
              "      <td>NE</td>\n",
              "      <td>4</td>\n",
              "      <td>7.0</td>\n",
              "      <td>86.0</td>\n",
              "      <td>41.0</td>\n",
              "      <td>1032.0</td>\n",
              "      <td>1029.6</td>\n",
              "      <td>0.0</td>\n",
              "      <td>1.0</td>\n",
              "      <td>6.9</td>\n",
              "      <td>15.5</td>\n",
              "      <td>1</td>\n",
              "      <td>0</td>\n",
              "    </tr>\n",
              "    <tr>\n",
              "      <th>6</th>\n",
              "      <td>0.7</td>\n",
              "      <td>18.3</td>\n",
              "      <td>0.0</td>\n",
              "      <td>0.8</td>\n",
              "      <td>9.3</td>\n",
              "      <td>N</td>\n",
              "      <td>37.0</td>\n",
              "      <td>NE</td>\n",
              "      <td>NNE</td>\n",
              "      <td>15</td>\n",
              "      <td>13.0</td>\n",
              "      <td>72.0</td>\n",
              "      <td>36.0</td>\n",
              "      <td>1028.9</td>\n",
              "      <td>1024.2</td>\n",
              "      <td>1.0</td>\n",
              "      <td>5.0</td>\n",
              "      <td>8.7</td>\n",
              "      <td>17.9</td>\n",
              "      <td>0</td>\n",
              "      <td>0</td>\n",
              "    </tr>\n",
              "  </tbody>\n",
              "</table>\n",
              "</div>"
            ],
            "text/plain": [
              "   MinTemp  MaxTemp  Rainfall  ...  Temp3pm  RainToday RainTomorrow\n",
              "1      6.4     20.7       0.0  ...     19.7          0            0\n",
              "3      9.5     19.2       1.8  ...     17.7          1            1\n",
              "4      9.5     16.4       1.8  ...     16.0          1            1\n",
              "5      0.7     15.9       6.8  ...     15.5          1            0\n",
              "6      0.7     18.3       0.0  ...     17.9          0            0\n",
              "\n",
              "[5 rows x 21 columns]"
            ]
          },
          "metadata": {},
          "execution_count": 5
        }
      ]
    },
    {
      "cell_type": "code",
      "metadata": {
        "colab": {
          "base_uri": "https://localhost:8080/",
          "height": 240
        },
        "id": "YyOTh8cXDH-P",
        "outputId": "e4b55933-0e32-4dce-c229-5946330a0458"
      },
      "source": [
        "wind_attributes = ['WindGustDir', 'WindDir9am', 'WindDir3pm']\n",
        "\n",
        "# Cardinal direction to radians\n",
        "dirs = ['N','NNE','NE','ENE','E','ESE','SE','SSE','S','SSW','SW','WSW','W','WNW','NW','NNW']\n",
        "angles = np.arange(0.0, 2.0*np.pi, 2.0*np.pi / 16.0)\n",
        "wind_angles = dict(zip(dirs, angles))\n",
        "print(wind_angles)\n",
        "\n",
        "for var in wind_attributes:\n",
        "    df[var] = df[var].map(wind_angles)\n",
        "    df[var + '_cos'] = np.cos(df[var])\n",
        "    df[var + '_sin'] = np.sin(df[var])\n",
        "    df = df.drop(columns=var)\n",
        "df.head()"
      ],
      "execution_count": 6,
      "outputs": [
        {
          "output_type": "stream",
          "name": "stdout",
          "text": [
            "{'N': 0.0, 'NNE': 0.39269908169872414, 'NE': 0.7853981633974483, 'ENE': 1.1780972450961724, 'E': 1.5707963267948966, 'ESE': 1.9634954084936207, 'SE': 2.356194490192345, 'SSE': 2.748893571891069, 'S': 3.141592653589793, 'SSW': 3.5342917352885173, 'SW': 3.9269908169872414, 'WSW': 4.319689898685965, 'W': 4.71238898038469, 'WNW': 5.105088062083414, 'NW': 5.497787143782138, 'NNW': 5.890486225480862}\n"
          ]
        },
        {
          "output_type": "execute_result",
          "data": {
            "text/html": [
              "<div>\n",
              "<style scoped>\n",
              "    .dataframe tbody tr th:only-of-type {\n",
              "        vertical-align: middle;\n",
              "    }\n",
              "\n",
              "    .dataframe tbody tr th {\n",
              "        vertical-align: top;\n",
              "    }\n",
              "\n",
              "    .dataframe thead th {\n",
              "        text-align: right;\n",
              "    }\n",
              "</style>\n",
              "<table border=\"1\" class=\"dataframe\">\n",
              "  <thead>\n",
              "    <tr style=\"text-align: right;\">\n",
              "      <th></th>\n",
              "      <th>MinTemp</th>\n",
              "      <th>MaxTemp</th>\n",
              "      <th>Rainfall</th>\n",
              "      <th>Evaporation</th>\n",
              "      <th>Sunshine</th>\n",
              "      <th>WindGustSpeed</th>\n",
              "      <th>WindSpeed9am</th>\n",
              "      <th>WindSpeed3pm</th>\n",
              "      <th>Humidity9am</th>\n",
              "      <th>Humidity3pm</th>\n",
              "      <th>Pressure9am</th>\n",
              "      <th>Pressure3pm</th>\n",
              "      <th>Cloud9am</th>\n",
              "      <th>Cloud3pm</th>\n",
              "      <th>Temp9am</th>\n",
              "      <th>Temp3pm</th>\n",
              "      <th>RainToday</th>\n",
              "      <th>RainTomorrow</th>\n",
              "      <th>WindGustDir_cos</th>\n",
              "      <th>WindGustDir_sin</th>\n",
              "      <th>WindDir9am_cos</th>\n",
              "      <th>WindDir9am_sin</th>\n",
              "      <th>WindDir3pm_cos</th>\n",
              "      <th>WindDir3pm_sin</th>\n",
              "    </tr>\n",
              "  </thead>\n",
              "  <tbody>\n",
              "    <tr>\n",
              "      <th>1</th>\n",
              "      <td>6.4</td>\n",
              "      <td>20.7</td>\n",
              "      <td>0.0</td>\n",
              "      <td>1.8</td>\n",
              "      <td>7.0</td>\n",
              "      <td>22.0</td>\n",
              "      <td>6</td>\n",
              "      <td>9.0</td>\n",
              "      <td>80.0</td>\n",
              "      <td>39.0</td>\n",
              "      <td>1024.1</td>\n",
              "      <td>1019.0</td>\n",
              "      <td>0.0</td>\n",
              "      <td>6.0</td>\n",
              "      <td>11.1</td>\n",
              "      <td>19.7</td>\n",
              "      <td>0</td>\n",
              "      <td>0</td>\n",
              "      <td>7.071068e-01</td>\n",
              "      <td>0.707107</td>\n",
              "      <td>-3.826834e-01</td>\n",
              "      <td>0.923880</td>\n",
              "      <td>0.382683</td>\n",
              "      <td>0.923880</td>\n",
              "    </tr>\n",
              "    <tr>\n",
              "      <th>3</th>\n",
              "      <td>9.5</td>\n",
              "      <td>19.2</td>\n",
              "      <td>1.8</td>\n",
              "      <td>1.2</td>\n",
              "      <td>4.7</td>\n",
              "      <td>26.0</td>\n",
              "      <td>11</td>\n",
              "      <td>6.0</td>\n",
              "      <td>93.0</td>\n",
              "      <td>73.0</td>\n",
              "      <td>1019.3</td>\n",
              "      <td>1018.4</td>\n",
              "      <td>6.0</td>\n",
              "      <td>6.0</td>\n",
              "      <td>13.2</td>\n",
              "      <td>17.7</td>\n",
              "      <td>1</td>\n",
              "      <td>1</td>\n",
              "      <td>-1.836970e-16</td>\n",
              "      <td>-1.000000</td>\n",
              "      <td>9.238795e-01</td>\n",
              "      <td>0.382683</td>\n",
              "      <td>0.923880</td>\n",
              "      <td>-0.382683</td>\n",
              "    </tr>\n",
              "    <tr>\n",
              "      <th>4</th>\n",
              "      <td>9.5</td>\n",
              "      <td>16.4</td>\n",
              "      <td>1.8</td>\n",
              "      <td>1.4</td>\n",
              "      <td>4.9</td>\n",
              "      <td>44.0</td>\n",
              "      <td>13</td>\n",
              "      <td>17.0</td>\n",
              "      <td>69.0</td>\n",
              "      <td>57.0</td>\n",
              "      <td>1020.4</td>\n",
              "      <td>1022.1</td>\n",
              "      <td>7.0</td>\n",
              "      <td>5.0</td>\n",
              "      <td>15.9</td>\n",
              "      <td>16.0</td>\n",
              "      <td>1</td>\n",
              "      <td>1</td>\n",
              "      <td>-3.826834e-01</td>\n",
              "      <td>-0.923880</td>\n",
              "      <td>-1.836970e-16</td>\n",
              "      <td>-1.000000</td>\n",
              "      <td>-0.707107</td>\n",
              "      <td>-0.707107</td>\n",
              "    </tr>\n",
              "    <tr>\n",
              "      <th>5</th>\n",
              "      <td>0.7</td>\n",
              "      <td>15.9</td>\n",
              "      <td>6.8</td>\n",
              "      <td>2.4</td>\n",
              "      <td>9.3</td>\n",
              "      <td>24.0</td>\n",
              "      <td>4</td>\n",
              "      <td>7.0</td>\n",
              "      <td>86.0</td>\n",
              "      <td>41.0</td>\n",
              "      <td>1032.0</td>\n",
              "      <td>1029.6</td>\n",
              "      <td>0.0</td>\n",
              "      <td>1.0</td>\n",
              "      <td>6.9</td>\n",
              "      <td>15.5</td>\n",
              "      <td>1</td>\n",
              "      <td>0</td>\n",
              "      <td>9.238795e-01</td>\n",
              "      <td>0.382683</td>\n",
              "      <td>3.826834e-01</td>\n",
              "      <td>0.923880</td>\n",
              "      <td>0.707107</td>\n",
              "      <td>0.707107</td>\n",
              "    </tr>\n",
              "    <tr>\n",
              "      <th>6</th>\n",
              "      <td>0.7</td>\n",
              "      <td>18.3</td>\n",
              "      <td>0.0</td>\n",
              "      <td>0.8</td>\n",
              "      <td>9.3</td>\n",
              "      <td>37.0</td>\n",
              "      <td>15</td>\n",
              "      <td>13.0</td>\n",
              "      <td>72.0</td>\n",
              "      <td>36.0</td>\n",
              "      <td>1028.9</td>\n",
              "      <td>1024.2</td>\n",
              "      <td>1.0</td>\n",
              "      <td>5.0</td>\n",
              "      <td>8.7</td>\n",
              "      <td>17.9</td>\n",
              "      <td>0</td>\n",
              "      <td>0</td>\n",
              "      <td>1.000000e+00</td>\n",
              "      <td>0.000000</td>\n",
              "      <td>7.071068e-01</td>\n",
              "      <td>0.707107</td>\n",
              "      <td>0.923880</td>\n",
              "      <td>0.382683</td>\n",
              "    </tr>\n",
              "  </tbody>\n",
              "</table>\n",
              "</div>"
            ],
            "text/plain": [
              "   MinTemp  MaxTemp  Rainfall  ...  WindDir9am_sin  WindDir3pm_cos  WindDir3pm_sin\n",
              "1      6.4     20.7       0.0  ...        0.923880        0.382683        0.923880\n",
              "3      9.5     19.2       1.8  ...        0.382683        0.923880       -0.382683\n",
              "4      9.5     16.4       1.8  ...       -1.000000       -0.707107       -0.707107\n",
              "5      0.7     15.9       6.8  ...        0.923880        0.707107        0.707107\n",
              "6      0.7     18.3       0.0  ...        0.707107        0.923880        0.382683\n",
              "\n",
              "[5 rows x 24 columns]"
            ]
          },
          "metadata": {},
          "execution_count": 6
        }
      ]
    },
    {
      "cell_type": "markdown",
      "metadata": {
        "id": "edo0MJsPDH-Q"
      },
      "source": [
        "Extract attributes (X) and class labels (y)."
      ]
    },
    {
      "cell_type": "code",
      "metadata": {
        "id": "ka587lA0DH-Q"
      },
      "source": [
        "y = df[\"RainTomorrow\"]\n",
        "X = df.drop(columns=\"RainTomorrow\")"
      ],
      "execution_count": 7,
      "outputs": []
    },
    {
      "cell_type": "code",
      "metadata": {
        "colab": {
          "base_uri": "https://localhost:8080/",
          "height": 223
        },
        "id": "XNYYwNVBFANG",
        "outputId": "79ea9ffd-6a8d-4a97-893c-4525f0728c46"
      },
      "source": [
        "X.head()"
      ],
      "execution_count": 12,
      "outputs": [
        {
          "output_type": "execute_result",
          "data": {
            "text/html": [
              "<div>\n",
              "<style scoped>\n",
              "    .dataframe tbody tr th:only-of-type {\n",
              "        vertical-align: middle;\n",
              "    }\n",
              "\n",
              "    .dataframe tbody tr th {\n",
              "        vertical-align: top;\n",
              "    }\n",
              "\n",
              "    .dataframe thead th {\n",
              "        text-align: right;\n",
              "    }\n",
              "</style>\n",
              "<table border=\"1\" class=\"dataframe\">\n",
              "  <thead>\n",
              "    <tr style=\"text-align: right;\">\n",
              "      <th></th>\n",
              "      <th>MinTemp</th>\n",
              "      <th>MaxTemp</th>\n",
              "      <th>Rainfall</th>\n",
              "      <th>Evaporation</th>\n",
              "      <th>Sunshine</th>\n",
              "      <th>WindGustSpeed</th>\n",
              "      <th>WindSpeed9am</th>\n",
              "      <th>WindSpeed3pm</th>\n",
              "      <th>Humidity9am</th>\n",
              "      <th>Humidity3pm</th>\n",
              "      <th>Pressure9am</th>\n",
              "      <th>Pressure3pm</th>\n",
              "      <th>Cloud9am</th>\n",
              "      <th>Cloud3pm</th>\n",
              "      <th>Temp9am</th>\n",
              "      <th>Temp3pm</th>\n",
              "      <th>RainToday</th>\n",
              "      <th>WindGustDir_cos</th>\n",
              "      <th>WindGustDir_sin</th>\n",
              "      <th>WindDir9am_cos</th>\n",
              "      <th>WindDir9am_sin</th>\n",
              "      <th>WindDir3pm_cos</th>\n",
              "      <th>WindDir3pm_sin</th>\n",
              "    </tr>\n",
              "  </thead>\n",
              "  <tbody>\n",
              "    <tr>\n",
              "      <th>1</th>\n",
              "      <td>6.4</td>\n",
              "      <td>20.7</td>\n",
              "      <td>0.0</td>\n",
              "      <td>1.8</td>\n",
              "      <td>7.0</td>\n",
              "      <td>22.0</td>\n",
              "      <td>6</td>\n",
              "      <td>9.0</td>\n",
              "      <td>80.0</td>\n",
              "      <td>39.0</td>\n",
              "      <td>1024.1</td>\n",
              "      <td>1019.0</td>\n",
              "      <td>0.0</td>\n",
              "      <td>6.0</td>\n",
              "      <td>11.1</td>\n",
              "      <td>19.7</td>\n",
              "      <td>0</td>\n",
              "      <td>7.071068e-01</td>\n",
              "      <td>0.707107</td>\n",
              "      <td>-3.826834e-01</td>\n",
              "      <td>0.923880</td>\n",
              "      <td>0.382683</td>\n",
              "      <td>0.923880</td>\n",
              "    </tr>\n",
              "    <tr>\n",
              "      <th>3</th>\n",
              "      <td>9.5</td>\n",
              "      <td>19.2</td>\n",
              "      <td>1.8</td>\n",
              "      <td>1.2</td>\n",
              "      <td>4.7</td>\n",
              "      <td>26.0</td>\n",
              "      <td>11</td>\n",
              "      <td>6.0</td>\n",
              "      <td>93.0</td>\n",
              "      <td>73.0</td>\n",
              "      <td>1019.3</td>\n",
              "      <td>1018.4</td>\n",
              "      <td>6.0</td>\n",
              "      <td>6.0</td>\n",
              "      <td>13.2</td>\n",
              "      <td>17.7</td>\n",
              "      <td>1</td>\n",
              "      <td>-1.836970e-16</td>\n",
              "      <td>-1.000000</td>\n",
              "      <td>9.238795e-01</td>\n",
              "      <td>0.382683</td>\n",
              "      <td>0.923880</td>\n",
              "      <td>-0.382683</td>\n",
              "    </tr>\n",
              "    <tr>\n",
              "      <th>4</th>\n",
              "      <td>9.5</td>\n",
              "      <td>16.4</td>\n",
              "      <td>1.8</td>\n",
              "      <td>1.4</td>\n",
              "      <td>4.9</td>\n",
              "      <td>44.0</td>\n",
              "      <td>13</td>\n",
              "      <td>17.0</td>\n",
              "      <td>69.0</td>\n",
              "      <td>57.0</td>\n",
              "      <td>1020.4</td>\n",
              "      <td>1022.1</td>\n",
              "      <td>7.0</td>\n",
              "      <td>5.0</td>\n",
              "      <td>15.9</td>\n",
              "      <td>16.0</td>\n",
              "      <td>1</td>\n",
              "      <td>-3.826834e-01</td>\n",
              "      <td>-0.923880</td>\n",
              "      <td>-1.836970e-16</td>\n",
              "      <td>-1.000000</td>\n",
              "      <td>-0.707107</td>\n",
              "      <td>-0.707107</td>\n",
              "    </tr>\n",
              "    <tr>\n",
              "      <th>5</th>\n",
              "      <td>0.7</td>\n",
              "      <td>15.9</td>\n",
              "      <td>6.8</td>\n",
              "      <td>2.4</td>\n",
              "      <td>9.3</td>\n",
              "      <td>24.0</td>\n",
              "      <td>4</td>\n",
              "      <td>7.0</td>\n",
              "      <td>86.0</td>\n",
              "      <td>41.0</td>\n",
              "      <td>1032.0</td>\n",
              "      <td>1029.6</td>\n",
              "      <td>0.0</td>\n",
              "      <td>1.0</td>\n",
              "      <td>6.9</td>\n",
              "      <td>15.5</td>\n",
              "      <td>1</td>\n",
              "      <td>9.238795e-01</td>\n",
              "      <td>0.382683</td>\n",
              "      <td>3.826834e-01</td>\n",
              "      <td>0.923880</td>\n",
              "      <td>0.707107</td>\n",
              "      <td>0.707107</td>\n",
              "    </tr>\n",
              "    <tr>\n",
              "      <th>6</th>\n",
              "      <td>0.7</td>\n",
              "      <td>18.3</td>\n",
              "      <td>0.0</td>\n",
              "      <td>0.8</td>\n",
              "      <td>9.3</td>\n",
              "      <td>37.0</td>\n",
              "      <td>15</td>\n",
              "      <td>13.0</td>\n",
              "      <td>72.0</td>\n",
              "      <td>36.0</td>\n",
              "      <td>1028.9</td>\n",
              "      <td>1024.2</td>\n",
              "      <td>1.0</td>\n",
              "      <td>5.0</td>\n",
              "      <td>8.7</td>\n",
              "      <td>17.9</td>\n",
              "      <td>0</td>\n",
              "      <td>1.000000e+00</td>\n",
              "      <td>0.000000</td>\n",
              "      <td>7.071068e-01</td>\n",
              "      <td>0.707107</td>\n",
              "      <td>0.923880</td>\n",
              "      <td>0.382683</td>\n",
              "    </tr>\n",
              "  </tbody>\n",
              "</table>\n",
              "</div>"
            ],
            "text/plain": [
              "   MinTemp  MaxTemp  Rainfall  ...  WindDir9am_sin  WindDir3pm_cos  WindDir3pm_sin\n",
              "1      6.4     20.7       0.0  ...        0.923880        0.382683        0.923880\n",
              "3      9.5     19.2       1.8  ...        0.382683        0.923880       -0.382683\n",
              "4      9.5     16.4       1.8  ...       -1.000000       -0.707107       -0.707107\n",
              "5      0.7     15.9       6.8  ...        0.923880        0.707107        0.707107\n",
              "6      0.7     18.3       0.0  ...        0.707107        0.923880        0.382683\n",
              "\n",
              "[5 rows x 23 columns]"
            ]
          },
          "metadata": {},
          "execution_count": 12
        }
      ]
    },
    {
      "cell_type": "code",
      "metadata": {
        "colab": {
          "base_uri": "https://localhost:8080/"
        },
        "id": "2f3lT_goFF2O",
        "outputId": "f3874a2c-c6d0-4e60-8763-dafebf92a430"
      },
      "source": [
        "y.head()"
      ],
      "execution_count": 13,
      "outputs": [
        {
          "output_type": "execute_result",
          "data": {
            "text/plain": [
              "1    0\n",
              "3    1\n",
              "4    1\n",
              "5    0\n",
              "6    0\n",
              "Name: RainTomorrow, dtype: int64"
            ]
          },
          "metadata": {},
          "execution_count": 13
        }
      ]
    },
    {
      "cell_type": "markdown",
      "metadata": {
        "id": "r6Bo36vgDH-Q"
      },
      "source": [
        "Split dataset into training and testing subsets."
      ]
    },
    {
      "cell_type": "code",
      "metadata": {
        "colab": {
          "base_uri": "https://localhost:8080/"
        },
        "id": "TKpsU-0RDH-R",
        "outputId": "6a9d8a46-fb2d-4b48-a598-cdd70ab9edf1"
      },
      "source": [
        "X_train, X_test, y_train, y_test = train_test_split(\n",
        "    X, \n",
        "    y, \n",
        "    test_size=0.33,\n",
        "    random_state=0\n",
        ")\n",
        "print('X_train', X_train.shape)\n",
        "print('X_test', X_test.shape)"
      ],
      "execution_count": 14,
      "outputs": [
        {
          "output_type": "stream",
          "name": "stdout",
          "text": [
            "X_train (2026, 23)\n",
            "X_test (999, 23)\n"
          ]
        }
      ]
    },
    {
      "cell_type": "code",
      "metadata": {
        "colab": {
          "base_uri": "https://localhost:8080/"
        },
        "id": "OX4yxKrcF5k3",
        "outputId": "ecc132a4-d640-4baf-e146-74550cc8c286"
      },
      "source": [
        "y_train"
      ],
      "execution_count": 15,
      "outputs": [
        {
          "output_type": "execute_result",
          "data": {
            "text/plain": [
              "1701    0\n",
              "2462    0\n",
              "997     0\n",
              "3175    0\n",
              "1077    0\n",
              "       ..\n",
              "818     0\n",
              "891     0\n",
              "1771    0\n",
              "2756    0\n",
              "2893    1\n",
              "Name: RainTomorrow, Length: 2026, dtype: int64"
            ]
          },
          "metadata": {},
          "execution_count": 15
        }
      ]
    },
    {
      "cell_type": "code",
      "metadata": {
        "colab": {
          "base_uri": "https://localhost:8080/"
        },
        "id": "E9Sm3u1PGTZ8",
        "outputId": "6440507c-f419-41ec-da27-e4c386b6b4c3"
      },
      "source": [
        "print('y_train', y_train.shape)"
      ],
      "execution_count": 16,
      "outputs": [
        {
          "output_type": "stream",
          "name": "stdout",
          "text": [
            "y_train (2026,)\n"
          ]
        }
      ]
    },
    {
      "cell_type": "code",
      "metadata": {
        "colab": {
          "base_uri": "https://localhost:8080/"
        },
        "id": "kuWnLjJxGG6x",
        "outputId": "d2d3e932-5e69-4269-bdc0-aa57f63d1d07"
      },
      "source": [
        "y_test"
      ],
      "execution_count": 17,
      "outputs": [
        {
          "output_type": "execute_result",
          "data": {
            "text/plain": [
              "1949    0\n",
              "998     0\n",
              "2278    0\n",
              "13      0\n",
              "1969    0\n",
              "       ..\n",
              "2542    1\n",
              "21      0\n",
              "67      0\n",
              "604     0\n",
              "1935    0\n",
              "Name: RainTomorrow, Length: 999, dtype: int64"
            ]
          },
          "metadata": {},
          "execution_count": 17
        }
      ]
    },
    {
      "cell_type": "code",
      "metadata": {
        "colab": {
          "base_uri": "https://localhost:8080/"
        },
        "id": "40BGedauOZVR",
        "outputId": "3e4182cc-bddb-414f-9731-24ddd93c3540"
      },
      "source": [
        "print('y_test', y_test.shape)"
      ],
      "execution_count": 19,
      "outputs": [
        {
          "output_type": "stream",
          "name": "stdout",
          "text": [
            "y_test (999,)\n"
          ]
        }
      ]
    },
    {
      "cell_type": "markdown",
      "metadata": {
        "id": "vSWDpcqnDH-R"
      },
      "source": [
        "Scale."
      ]
    },
    {
      "cell_type": "code",
      "metadata": {
        "id": "OhxdvefMDH-R"
      },
      "source": [
        "scaler = StandardScaler()\n",
        "scaler.fit(X_train)\n",
        "X_train = scaler.transform(X_train)\n",
        "X_test = scaler.transform(X_test)"
      ],
      "execution_count": 21,
      "outputs": []
    },
    {
      "cell_type": "markdown",
      "metadata": {
        "id": "vYP_OvCmDH-S"
      },
      "source": [
        "Instantiate a neural network and train it."
      ]
    },
    {
      "cell_type": "markdown",
      "metadata": {
        "id": "XVoJSkbFDH-S"
      },
      "source": [
        "Input layer size."
      ]
    },
    {
      "cell_type": "code",
      "metadata": {
        "colab": {
          "base_uri": "https://localhost:8080/"
        },
        "id": "0-xaz7JCDH-S",
        "outputId": "471af94b-186e-4645-ff74-7639984ef5a7"
      },
      "source": [
        "print(X_train.shape)"
      ],
      "execution_count": 20,
      "outputs": [
        {
          "output_type": "stream",
          "name": "stdout",
          "text": [
            "(2026, 23)\n"
          ]
        }
      ]
    },
    {
      "cell_type": "code",
      "metadata": {
        "colab": {
          "base_uri": "https://localhost:8080/"
        },
        "id": "Jbbw_bnyDH-S",
        "outputId": "c94370b1-1ec9-4087-b0c0-d8f2bc2a2bbb"
      },
      "source": [
        "classifier = MLPClassifier(\n",
        "    hidden_layer_sizes=(50,50),\n",
        "    max_iter=500,\n",
        "    random_state=0\n",
        ")\n",
        "classifier.fit(X_train, y_train)"
      ],
      "execution_count": 22,
      "outputs": [
        {
          "output_type": "execute_result",
          "data": {
            "text/plain": [
              "MLPClassifier(activation='relu', alpha=0.0001, batch_size='auto', beta_1=0.9,\n",
              "              beta_2=0.999, early_stopping=False, epsilon=1e-08,\n",
              "              hidden_layer_sizes=(50, 50), learning_rate='constant',\n",
              "              learning_rate_init=0.001, max_fun=15000, max_iter=500,\n",
              "              momentum=0.9, n_iter_no_change=10, nesterovs_momentum=True,\n",
              "              power_t=0.5, random_state=0, shuffle=True, solver='adam',\n",
              "              tol=0.0001, validation_fraction=0.1, verbose=False,\n",
              "              warm_start=False)"
            ]
          },
          "metadata": {},
          "execution_count": 22
        }
      ]
    },
    {
      "cell_type": "markdown",
      "metadata": {
        "id": "KF4QYAJ7DH-T"
      },
      "source": [
        "Predict target class for the testing set."
      ]
    },
    {
      "cell_type": "code",
      "metadata": {
        "colab": {
          "base_uri": "https://localhost:8080/"
        },
        "id": "L9_us_R_DH-T",
        "outputId": "5ff8eb12-2080-4972-8816-a3d2cff057ee"
      },
      "source": [
        "y_pred = classifier.predict(X_test)\n",
        "print(accuracy_score(y_test, y_pred))"
      ],
      "execution_count": 23,
      "outputs": [
        {
          "output_type": "stream",
          "name": "stdout",
          "text": [
            "0.8928928928928929\n"
          ]
        }
      ]
    },
    {
      "cell_type": "markdown",
      "metadata": {
        "id": "ql7pCFOODH-T"
      },
      "source": [
        "Search for best network layout."
      ]
    },
    {
      "cell_type": "code",
      "metadata": {
        "colab": {
          "base_uri": "https://localhost:8080/"
        },
        "id": "7x9K1geJDH-T",
        "outputId": "1901dcae-394a-4e8e-b641-addb92085f1f"
      },
      "source": [
        "parameters = {\n",
        "    'hidden_layer_sizes': (\n",
        "        (2,), (10,), (50,50),\n",
        "    )\n",
        "}\n",
        "nn = MLPClassifier(max_iter=2000, random_state=0)\n",
        "gridsearch = GridSearchCV(nn, parameters, cv=3)\n",
        "gridsearch.fit(X_train, y_train)\n"
      ],
      "execution_count": 24,
      "outputs": [
        {
          "output_type": "execute_result",
          "data": {
            "text/plain": [
              "GridSearchCV(cv=3, error_score=nan,\n",
              "             estimator=MLPClassifier(activation='relu', alpha=0.0001,\n",
              "                                     batch_size='auto', beta_1=0.9,\n",
              "                                     beta_2=0.999, early_stopping=False,\n",
              "                                     epsilon=1e-08, hidden_layer_sizes=(100,),\n",
              "                                     learning_rate='constant',\n",
              "                                     learning_rate_init=0.001, max_fun=15000,\n",
              "                                     max_iter=2000, momentum=0.9,\n",
              "                                     n_iter_no_change=10,\n",
              "                                     nesterovs_momentum=True, power_t=0.5,\n",
              "                                     random_state=0, shuffle=True,\n",
              "                                     solver='adam', tol=0.0001,\n",
              "                                     validation_fraction=0.1, verbose=False,\n",
              "                                     warm_start=False),\n",
              "             iid='deprecated', n_jobs=None,\n",
              "             param_grid={'hidden_layer_sizes': ((2,), (10,), (50, 50))},\n",
              "             pre_dispatch='2*n_jobs', refit=True, return_train_score=False,\n",
              "             scoring=None, verbose=0)"
            ]
          },
          "metadata": {},
          "execution_count": 24
        }
      ]
    },
    {
      "cell_type": "markdown",
      "metadata": {
        "id": "qX6x7uqRDH-T"
      },
      "source": [
        "Display grid search results."
      ]
    },
    {
      "cell_type": "code",
      "metadata": {
        "colab": {
          "base_uri": "https://localhost:8080/"
        },
        "id": "fJuqaqm6DH-U",
        "outputId": "e27e0629-23c6-4fa4-d868-7e7e44577024"
      },
      "source": [
        "print(gridsearch.cv_results_['params'])\n",
        "print(gridsearch.cv_results_['mean_test_score'])"
      ],
      "execution_count": 25,
      "outputs": [
        {
          "output_type": "stream",
          "name": "stdout",
          "text": [
            "[{'hidden_layer_sizes': (2,)}, {'hidden_layer_sizes': (10,)}, {'hidden_layer_sizes': (50, 50)}]\n",
            "[0.90424355 0.89487179 0.88450873]\n"
          ]
        }
      ]
    },
    {
      "cell_type": "markdown",
      "metadata": {
        "id": "syoXV0fDDH-U"
      },
      "source": [
        "Predictions using the best neural network."
      ]
    },
    {
      "cell_type": "code",
      "metadata": {
        "colab": {
          "base_uri": "https://localhost:8080/"
        },
        "id": "xMhYtp0rDH-U",
        "outputId": "f7e49290-5bb9-4f15-cb5b-d5280a3ad593"
      },
      "source": [
        "best_nn = gridsearch.best_estimator_\n",
        "y_pred = best_nn.predict(X_test)\n",
        "print(accuracy_score(y_test, y_pred))"
      ],
      "execution_count": 26,
      "outputs": [
        {
          "output_type": "stream",
          "name": "stdout",
          "text": [
            "0.8938938938938938\n"
          ]
        }
      ]
    }
  ]
}